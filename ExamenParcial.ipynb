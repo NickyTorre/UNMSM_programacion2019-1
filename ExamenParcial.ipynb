{
  "nbformat": 4,
  "nbformat_minor": 0,
  "metadata": {
    "colab": {
      "name": "ExamenParcial.ipynb",
      "version": "0.3.2",
      "provenance": [],
      "collapsed_sections": [],
      "include_colab_link": true
    },
    "language_info": {
      "codemirror_mode": {
        "name": "ipython",
        "version": 3
      },
      "file_extension": ".py",
      "mimetype": "text/x-python",
      "name": "python",
      "nbconvert_exporter": "python",
      "pygments_lexer": "ipython3",
      "version": "3.6.7"
    },
    "kernelspec": {
      "display_name": "Python 3",
      "language": "python",
      "name": "python3"
    }
  },
  "cells": [
    {
      "cell_type": "markdown",
      "metadata": {
        "id": "view-in-github",
        "colab_type": "text"
      },
      "source": [
        "<a href=\"https://colab.research.google.com/github/NickyTorre/UNMSM_programacion2019-1/blob/master/ExamenParcial.ipynb\" target=\"_parent\"><img src=\"https://colab.research.google.com/assets/colab-badge.svg\" alt=\"Open In Colab\"/></a>"
      ]
    },
    {
      "cell_type": "markdown",
      "metadata": {
        "id": "RqUWEjnRiWpq",
        "colab_type": "text"
      },
      "source": [
        "# Examen Parcial - Programación"
      ]
    },
    {
      "cell_type": "markdown",
      "metadata": {
        "id": "DvyDvfXriWps",
        "colab_type": "text"
      },
      "source": [
        "<div class=\"alert alert-info\"><strong>Reglas del examen:</strong> \n",
        "\n",
        "1. El examen es personal, se puede acceder a internet pero nada de celulares.\n",
        "2. Se utilizará la plataforma de Colab y se guardará como *.ipynb con su nombre con el siguiente formato: ApellidoPaterno_PrimerNombre_Codigo, por ejemplo:  Yali_Roy_10160215.\n",
        "3. Una vez terminado el examen, subirlo a la siguiente ruta: **shorturl.at/ayCF6**\n",
        "\n",
        "</div>\n"
      ]
    },
    {
      "cell_type": "markdown",
      "metadata": {
        "id": "HmT2MT3biWpw",
        "colab_type": "text"
      },
      "source": [
        "## Nivel 1 (2 ptos c/u)"
      ]
    },
    {
      "cell_type": "markdown",
      "metadata": {
        "id": "7-ycBdh6iWpy",
        "colab_type": "text"
      },
      "source": [
        "1. Devuelva el factorial de un número x."
      ]
    },
    {
      "cell_type": "code",
      "metadata": {
        "id": "aTc2pCGSiZee",
        "colab_type": "code",
        "colab": {
          "base_uri": "https://localhost:8080/",
          "height": 34
        },
        "outputId": "912b18ab-131c-40a0-de18-d170e2b85fe8"
      },
      "source": [
        "def factorial(numero):\n",
        "    if numero == 0 or numero == 1:\n",
        "        return 1\n",
        "    else:\n",
        "        return numero * factorial(numero - 1)\n",
        "\n",
        "factorial(12)"
      ],
      "execution_count": 4,
      "outputs": [
        {
          "output_type": "execute_result",
          "data": {
            "text/plain": [
              "479001600"
            ]
          },
          "metadata": {
            "tags": []
          },
          "execution_count": 4
        }
      ]
    },
    {
      "cell_type": "markdown",
      "metadata": {
        "id": "JtePJBKJiWpz",
        "colab_type": "text"
      },
      "source": [
        "2. Determinar si un año es bisiesto, ingresando el año."
      ]
    },
    {
      "cell_type": "code",
      "metadata": {
        "id": "PC8LOflLjhZt",
        "colab_type": "code",
        "colab": {
          "base_uri": "https://localhost:8080/",
          "height": 51
        },
        "outputId": "2189c742-845f-4087-bb16-c603b9042760"
      },
      "source": [
        "x = int(input(\"Ingrese el año: \"))\n",
        "\n",
        "if x % 4 == 0 and  (x % 100 != 0  or  x % 400 == 0):\n",
        "  print(\"{} es un año bisiesto\".format(x))\n",
        "  \n",
        "else:\n",
        "  print(\"{} no es un año bisiesto\".format(x))\n",
        "  "
      ],
      "execution_count": 36,
      "outputs": [
        {
          "output_type": "stream",
          "text": [
            "Ingrese el año: 2100\n",
            "2100 no es un año bisiesto\n"
          ],
          "name": "stdout"
        }
      ]
    },
    {
      "cell_type": "markdown",
      "metadata": {
        "id": "5Un7EHIViWp1",
        "colab_type": "text"
      },
      "source": [
        "3. Realizar una función que devuelva el volumen de una esfera a partir de su radio."
      ]
    },
    {
      "cell_type": "code",
      "metadata": {
        "id": "tn5KW6WFt6MV",
        "colab_type": "code",
        "colab": {
          "base_uri": "https://localhost:8080/",
          "height": 34
        },
        "outputId": "fda8cbcf-0d73-4ba2-b2b2-f9b6df276932"
      },
      "source": [
        "import math\n",
        "from math import pi\n",
        "def Volumen_esfera(radio):\n",
        "  Volumen_esfera = (4*radio**3*pi)/3\n",
        "  print(\"El Volumen de la esfera es:\",Volumen_esfera)\n",
        "Volumen_esfera(4)"
      ],
      "execution_count": 11,
      "outputs": [
        {
          "output_type": "stream",
          "text": [
            "El Volumen de la esfera es: 268.082573106329\n"
          ],
          "name": "stdout"
        }
      ]
    },
    {
      "cell_type": "markdown",
      "metadata": {
        "id": "juIxAly1iWp3",
        "colab_type": "text"
      },
      "source": [
        "4. Realizar una función que devuelva lo siguiente, utilizando iteradores:\n",
        "    * * * * *\n",
        "    * * * *\n",
        "    * * *\n",
        "    * *\n",
        "    * *\n",
        "    * * *\n",
        "    * * * *\n",
        "    * * * * *"
      ]
    },
    {
      "cell_type": "code",
      "metadata": {
        "id": "TRjStqatpIGM",
        "colab_type": "code",
        "colab": {
          "base_uri": "https://localhost:8080/",
          "height": 102
        },
        "outputId": "e168089e-6165-4398-bf96-5f088d44fda4"
      },
      "source": [
        "asteriscos = [\"****\", \"***\", \"**\", \"***\", \"****\"]\n",
        "for x in asteriscos:\n",
        "  print(x)"
      ],
      "execution_count": 7,
      "outputs": [
        {
          "output_type": "stream",
          "text": [
            "****\n",
            "***\n",
            "**\n",
            "***\n",
            "****\n"
          ],
          "name": "stdout"
        }
      ]
    },
    {
      "cell_type": "markdown",
      "metadata": {
        "id": "dVw3JKPXiWp5",
        "colab_type": "text"
      },
      "source": [
        "5. Ingresar grados en numero decimal y devuelva como string con minutos y segundos. (p.e. 73° 25' 44\")"
      ]
    },
    {
      "cell_type": "markdown",
      "metadata": {
        "id": "2CH0AVZtiWp7",
        "colab_type": "text"
      },
      "source": [
        "## Nivel 2 (3 ptos c/u)"
      ]
    },
    {
      "cell_type": "markdown",
      "metadata": {
        "id": "CGL1zzcMiWp8",
        "colab_type": "text"
      },
      "source": [
        "6. Ordena la lista [(2,5), (1,2), (4,4), (2,3), (2,1)] por el segundo elemento de cada tupla."
      ]
    },
    {
      "cell_type": "code",
      "metadata": {
        "id": "9I--KsM1uHi5",
        "colab_type": "code",
        "colab": {
          "base_uri": "https://localhost:8080/",
          "height": 34
        },
        "outputId": "7803e453-ffad-40e5-cab0-b924e60422e6"
      },
      "source": [
        "def Ordenacion(tupla):\n",
        "  return (tupla[1], -tupla[0])\n",
        "\n",
        "Lista = [ (2, 5), (1, 2), (4, 4), (2, 3), (2, 1)]\n",
        "sorted(Lista, key=Ordenacion)"
      ],
      "execution_count": 2,
      "outputs": [
        {
          "output_type": "execute_result",
          "data": {
            "text/plain": [
              "[(2, 1), (1, 2), (2, 3), (4, 4), (2, 5)]"
            ]
          },
          "metadata": {
            "tags": []
          },
          "execution_count": 2
        }
      ]
    },
    {
      "cell_type": "markdown",
      "metadata": {
        "id": "RdAxuSBIiWp-",
        "colab_type": "text"
      },
      "source": [
        "7. Realizar una función que pida la longitud de los tres lados de un triángulo y escriba si el triángulo existe o no; en caso exista, devuelva su área."
      ]
    },
    {
      "cell_type": "code",
      "metadata": {
        "id": "964u9TlXt0B_",
        "colab_type": "code",
        "colab": {
          "base_uri": "https://localhost:8080/",
          "height": 85
        },
        "outputId": "b53da869-9a64-4d58-f46c-e63a87873c01"
      },
      "source": [
        "a = float(input(\"Medida del primer lado: \"))\n",
        "b = float(input(\"Medida del segundo lado: \"))\n",
        "c = float(input(\"Medida del tercer lado: \"))\n",
        "\n",
        "if a-c<b<a+c:\n",
        "  print(\"El triangulo existe\")\n",
        "  \n",
        "else:\n",
        "  print(\"El triangulo no existe\")"
      ],
      "execution_count": 21,
      "outputs": [
        {
          "output_type": "stream",
          "text": [
            "Medida del primer lado: 6\n",
            "Medida del segundo lado: 5\n",
            "Medida del tercer lado: 4\n",
            "El triangulo existe\n"
          ],
          "name": "stdout"
        }
      ]
    },
    {
      "cell_type": "markdown",
      "metadata": {
        "id": "S_ZA-lVwiWqA",
        "colab_type": "text"
      },
      "source": [
        "8. Leer el archivo \"ubigeos.json\" y realizar una función en la que ingresando el ubigeo, devuelva el nombre del departamento, provincia y distrito."
      ]
    },
    {
      "cell_type": "code",
      "metadata": {
        "id": "fjPmUn6dnxJM",
        "colab_type": "code",
        "colab": {}
      },
      "source": [
        "archivo=open(\"ubigeos.json\", \"r\")\n",
        "Contenido = archivo.read()\n",
        "print(Contenido)"
      ],
      "execution_count": 0,
      "outputs": []
    },
    {
      "cell_type": "markdown",
      "metadata": {
        "id": "dptQh-UziWqE",
        "colab_type": "text"
      },
      "source": [
        "9. Realice una función que calcule la pendiente entre dos puntos, teniendo las coordenadas."
      ]
    },
    {
      "cell_type": "code",
      "metadata": {
        "id": "c8Uf6RtTkRqd",
        "colab_type": "code",
        "colab": {
          "base_uri": "https://localhost:8080/",
          "height": 34
        },
        "outputId": "3768c591-c8a7-4d52-90db-84e9a18c0955"
      },
      "source": [
        "def Pendiente(x0, y0, x1, y1):\n",
        "  m = (y1 - y0)/float(x1 - x0)\n",
        "  return m\n",
        "Pendiente(10,6,2,4)"
      ],
      "execution_count": 6,
      "outputs": [
        {
          "output_type": "execute_result",
          "data": {
            "text/plain": [
              "0.25"
            ]
          },
          "metadata": {
            "tags": []
          },
          "execution_count": 6
        }
      ]
    },
    {
      "cell_type": "markdown",
      "metadata": {
        "id": "NC6UkjU9iWqF",
        "colab_type": "text"
      },
      "source": [
        "10. Desarrollar una función que pueda calcular la sumatoria para n números:\n",
        "\n",
        "    $1^2 + 2^2 + 3^2 + . . . +  n^2$\n",
        "    "
      ]
    },
    {
      "cell_type": "code",
      "metadata": {
        "id": "DtXYi_Dxu_QY",
        "colab_type": "code",
        "colab": {
          "base_uri": "https://localhost:8080/",
          "height": 34
        },
        "outputId": "ba1c2f18-a9c6-43db-89e4-a2d853f49cd7"
      },
      "source": [
        "def Sumatoria_n2(numero):\n",
        "  Sumatoria_n2=((numero)*(numero+1)*(2*numero+1))/6\n",
        "  return Sumatoria_n2\n",
        "Sumatoria_n2(7)"
      ],
      "execution_count": 12,
      "outputs": [
        {
          "output_type": "execute_result",
          "data": {
            "text/plain": [
              "140.0"
            ]
          },
          "metadata": {
            "tags": []
          },
          "execution_count": 12
        }
      ]
    },
    {
      "cell_type": "markdown",
      "metadata": {
        "id": "Y7pyvE6XiWqH",
        "colab_type": "text"
      },
      "source": [
        "## Nivel 3 (4 ptos c/u)"
      ]
    },
    {
      "cell_type": "markdown",
      "metadata": {
        "id": "ZhrBHwh5iWqJ",
        "colab_type": "text"
      },
      "source": [
        "11. Leer el archivo \"departamentos.json\" y realizar una función en la que ingresando el nombre del departamento, devuelva la cantidad de provincias y distritos."
      ]
    },
    {
      "cell_type": "code",
      "metadata": {
        "id": "HfebhyzInsSZ",
        "colab_type": "code",
        "colab": {}
      },
      "source": [
        ""
      ],
      "execution_count": 0,
      "outputs": []
    }
  ]
}